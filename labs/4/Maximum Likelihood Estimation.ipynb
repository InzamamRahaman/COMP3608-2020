{
 "cells": [
  {
   "cell_type": "code",
   "execution_count": 1,
   "metadata": {},
   "outputs": [
    {
     "name": "stdout",
     "output_type": "stream",
     "text": [
      "Populating the interactive namespace from numpy and matplotlib\n"
     ]
    }
   ],
   "source": [
    "%pylab inline\n",
    "import numpy as np\n",
    "import torch as th\n",
    "import torch.nn as nn\n",
    "import torch.optim as optim"
   ]
  },
  {
   "cell_type": "code",
   "execution_count": 115,
   "metadata": {},
   "outputs": [],
   "source": [
    "# arr = np.random.geometric(0.2, size=10000)\n",
    "# with open('mle1.npy', 'wb') as fp:\n",
    "#     np.save(fp, arr - 1)\n",
    "\n",
    "# arr = np.random.poisson(5, size=10000)\n",
    "# with open('mle2.npy', 'wb') as fp:\n",
    "#     np.save(fp, arr)\n",
    "    \n",
    "def plot_loss(loss_curve):\n",
    "    plt.plot(list(range(len(loss_curve))), loss_curve)"
   ]
  },
  {
   "cell_type": "markdown",
   "metadata": {},
   "source": [
    "## Recap from lecture\n",
    "\n",
    "Recall that even after assuming the general shape of a distribution, we still need to estimate the distribution's parameters to model the data provided well.\n",
    "\n",
    "Recall that we can measure how well a particular configuration of parameters fits a distribution by using its likelihood function. Also recall that we also observed that by maximising the likelihood wrt to the parameters we can fit the distribution.\n",
    "\n",
    "As we saw in class,  likelihood functions are difficult to optmise in their original form, so we derive the negative log-likelihood (NLL) and then minimise wrt to the parameters to fit the distribution. Once we have the problem as an unconstrained minimisation problem, we can solve it using gradient descent."
   ]
  },
  {
   "cell_type": "markdown",
   "metadata": {},
   "source": [
    "### Example for Geometric Distribution\n",
    "\n",
    "Suppose that we assume that our dataset $D = \\{x_1, x_2, \\ldots, x_n\\}$ follow a Geometric Distribtion. For example, each data point (sclar ) represents the number of times we had to flip a coin before it came up heads. The Geometric Distribution has a parameter $p$ - the probability of success - in this case flipping and coming with heads - for a particular trial. We want to estimate the value of $p$ from our data. We first must derive the NLL for the geometric distribution. This is as follows:\n",
    "\n",
    "$$\\mathcal{L}(D;p) = \\prod_{i=1}^{n}(1 - p)^{x_i}p$$\n",
    "$$\\log\\mathcal{L}(D;p) = \\sum_{i=1}^{n}\\log((1 - p)^{x_i}p)$$\n",
    "$$\\log\\mathcal{L}(D;p) = \\sum_{i=1}^{n}(x_i\\log(1 - p) + \\log p)$$\n",
    "$$\\text{NLL}(D;p) = -\\log\\mathcal{L}(D;p)$$\n",
    "$$\\text{NLL}(D;p) = -\\sum_{i=1}^{n}(x_i\\log(1 - p) + \\log p)$$\n",
    "\n",
    "Hence, our negative log-likelihood is $\\text{NLL}(D;p) = -\\sum_{i=1}^{n}(x_i\\log(1 - p) + \\log p)$. Framing this as minimisation problem, we have to solve the optimisation problem\n",
    "\n",
    "$$\\min_{p \\in \\mathbb{R}}\\left(-\\sum_{i=1}^{n}(x_i\\log(1 - p) + \\log p)\\right)$$\n",
    "\n",
    "However, if our dataset is large, we may encounter issues of numerical stability! To help redress this, we have to alter the optimisation problem slightly. Recall that by multiply the loss function by a positive real number, the solution to the problem remains the same; consequently, we mutliply by $\\frac{1}{n}$, so our problem becomes $$\\min_{p \\in \\mathbb{R}}\\left(-\\frac{1}{n}\\sum_{i=1}^{n}(x_i\\log(1 - p) + \\log p)\\right)$$. With that in mind, let us start coding gradient descent to find $p$"
   ]
  },
  {
   "cell_type": "code",
   "execution_count": 242,
   "metadata": {},
   "outputs": [],
   "source": [
    "def loss_function(dataset, p, eps=0.001):\n",
    "    p1 = dataset * th.log(1 - p)\n",
    "    p2 = th.log(p + eps) # eps added to prevent underflow\n",
    "    acc = th.mean(p1 + p2)\n",
    "    return -acc\n",
    "\n",
    "\n",
    "# Recall that p must be a probability, so instead of learning p directly, we instead learn a paramater that when\n",
    "# passed through sigmoid gives us p\n",
    "\n",
    "\n",
    "class Model(nn.Module):\n",
    "    def __init__(self):\n",
    "        super().__init__()\n",
    "        p_prime = np.abs(np.random.uniform(0, 1))\n",
    "        self.p_prime = nn.Parameter(th.tensor(p_prime))\n",
    "        \n",
    "    \n",
    "    def p(self):\n",
    "        return th.sigmoid(self.p_prime) \n",
    "    \n",
    "        \n",
    "    \n",
    "    def loss(self, dataset):\n",
    "        return loss_function(dataset, self.p())\n"
   ]
  },
  {
   "cell_type": "code",
   "execution_count": 243,
   "metadata": {},
   "outputs": [],
   "source": [
    "model = Model()\n",
    "lr = 0.1\n",
    "optimiser = optim.SGD(model.parameters(), lr=lr)\n",
    "num_iters = 200\n",
    "loss_curve = []"
   ]
  },
  {
   "cell_type": "code",
   "execution_count": 244,
   "metadata": {},
   "outputs": [],
   "source": [
    "fp = open('mle1.npy', 'rb')\n",
    "dataset = np.load(fp)\n",
    "fp.close()\n",
    "dataset = th.tensor(dataset, dtype=th.float32)"
   ]
  },
  {
   "cell_type": "markdown",
   "metadata": {},
   "source": [
    "Now, let us train our model. Note that we have set our learning rate low - this is because if we set the learning rate too high we will not only miss the optimiser, we are also prone in this problem to shooting off in a bad direction!"
   ]
  },
  {
   "cell_type": "code",
   "execution_count": 245,
   "metadata": {},
   "outputs": [],
   "source": [
    "for i in range(num_iters):\n",
    "    optimiser.zero_grad()\n",
    "    loss_value = model.loss(dataset)\n",
    "    loss_curve.append(loss_value.data.item())\n",
    "    loss_value.backward()\n",
    "    optimiser.step()"
   ]
  },
  {
   "cell_type": "code",
   "execution_count": 246,
   "metadata": {},
   "outputs": [],
   "source": [
    "p = model.p().detach().numpy()"
   ]
  },
  {
   "cell_type": "markdown",
   "metadata": {},
   "source": [
    "Diagnose the gradient descent using the loss curve"
   ]
  },
  {
   "cell_type": "code",
   "execution_count": 247,
   "metadata": {},
   "outputs": [
    {
     "data": {
      "image/png": "[encoded data removed]",
      "text/plain": [
       "<Figure size 432x288 with 1 Axes>"
      ]
     },
     "metadata": {
      "needs_background": "light"
     },
     "output_type": "display_data"
    }
   ],
   "source": [
    "plot_loss(loss_curve)"
   ]
  },
  {
   "cell_type": "markdown",
   "metadata": {},
   "source": [
    "### Plotting data\n",
    "\n",
    "As a sanity check, we can also plot the actual data as a histogram alongside our predicted frequencies.\n",
    "Here, we observe, that our orange line - representing our model - follows the actual data - the histogram - closely"
   ]
  },
  {
   "cell_type": "code",
   "execution_count": 248,
   "metadata": {},
   "outputs": [
    {
     "data": {
      "text/plain": [
       "[<matplotlib.lines.Line2D at 0x11fe19c50>]"
      ]
     },
     "execution_count": 248,
     "metadata": {},
     "output_type": "execute_result"
    },
    {
     "data": {
      "image/png": "[encoded data removed]",
      "text/plain": [
       "<Figure size 432x288 with 1 Axes>"
      ]
     },
     "metadata": {
      "needs_background": "light"
     },
     "output_type": "display_data"
    }
   ],
   "source": [
    "histogram = plt.hist(dataset.numpy(), bins=int(np.max(dataset.numpy())))\n",
    "arr = []\n",
    "for i in range(41):\n",
    "    prob = (1 - model.p()) ** i * model.p()\n",
    "    arr.append(prob * len(dataset))\n",
    "plt.plot(list(range(41)), arr)"
   ]
  },
  {
   "cell_type": "markdown",
   "metadata": {},
   "source": [
    "## Poisson Distribution\n",
    "\n",
    "Let's try the same thing for the Poisson distribution.\n",
    "\n",
    "$$\\mathcal{L}(D;\\lambda) = \\prod_{i=1}^{n}\\frac{\\lambda^{x_i}e^{-\\lambda}}{x_i!}$$\n",
    "$$\\log\\mathcal{L}(D;\\lambda) = \\sum_{i=1}^{n}\\log\\left(\\frac{\\lambda^{x_i}e^{-\\lambda}}{x_i!}\\right)$$\n",
    "$$\\log\\mathcal{L}(D;\\lambda) = \\sum_{i=1}^{n}(x_i\\log\\lambda - \\lambda - \\log x_{i}!)$$\n",
    "$$\\text{NLL}(D;\\lambda) = -\\log\\mathcal{L}(D;p)$$\n",
    "$$\\text{NLL}(D;\\lambda) = -\\sum_{i=1}^{n}(x_i\\log\\lambda - \\lambda - \\log x_{i}!)$$\n",
    "\n",
    "Stating this as a minimisation problem and following the same logic from above, we get\n",
    "\n",
    "$$\\min_{\\lambda \\in \\mathbb{R}}\\left(-\\frac{1}{n}\\sum_{i=1}^{n}(x_i\\log\\lambda - \\lambda - \\log x_{i}!)\\right)$$\n",
    "\n",
    "The $\\log x_{i}!$ is a problem. However, note that it is a constant, i.e. not dependent on $\\lambda$. Hence, we can eliminate it from the optimisation problem without consequence! Our problem then becomes:\n",
    "\n",
    "\n",
    "$$\\min_{\\lambda \\in \\mathbb{R}}\\left(-\\frac{1}{n}\\sum_{i=1}^{n}(x_i\\log\\lambda - \\lambda)\\right)$$"
   ]
  },
  {
   "cell_type": "code",
   "execution_count": 249,
   "metadata": {},
   "outputs": [],
   "source": [
    "def loss_function(dataset, lam, eps=0.001):\n",
    "    p1 = dataset * th.log(lam)\n",
    "    p2 = -lam\n",
    "    acc = th.mean(p1 + p2)\n",
    "    return -acc\n",
    "\n",
    "\n",
    "# Similarly to p, lam must be positive, so we force it through an absolute function\n",
    "\n",
    "class Model(nn.Module):\n",
    "    def __init__(self):\n",
    "        super().__init__()\n",
    "        lam_prime = np.random.normal(25)\n",
    "        self.lam_prime = nn.Parameter(th.tensor(lam_prime))\n",
    "        \n",
    "    def lam(self):\n",
    "        return th.abs(self.lam_prime)\n",
    "    \n",
    "        \n",
    "    \n",
    "    def loss(self, dataset):\n",
    "        return loss_function(dataset, self.lam())"
   ]
  },
  {
   "cell_type": "code",
   "execution_count": 250,
   "metadata": {},
   "outputs": [],
   "source": [
    "model = Model()\n",
    "lr = 0.1\n",
    "optimiser = optim.SGD(model.parameters(), lr=lr)\n",
    "num_iters = 1000\n",
    "loss_curve = []"
   ]
  },
  {
   "cell_type": "code",
   "execution_count": 251,
   "metadata": {},
   "outputs": [],
   "source": [
    "fp = open('mle2.npy', 'rb')\n",
    "dataset = np.load(fp)\n",
    "fp.close()\n",
    "dataset = th.tensor(dataset, dtype=th.float32)"
   ]
  },
  {
   "cell_type": "code",
   "execution_count": 252,
   "metadata": {},
   "outputs": [],
   "source": [
    "for i in range(num_iters):\n",
    "    optimiser.zero_grad()\n",
    "    loss_value = model.loss(dataset)\n",
    "    loss_curve.append(loss_value.data.item())\n",
    "    loss_value.backward()\n",
    "    optimiser.step()"
   ]
  },
  {
   "cell_type": "code",
   "execution_count": 253,
   "metadata": {},
   "outputs": [
    {
     "name": "stdout",
     "output_type": "stream",
     "text": [
      "4.995118\n"
     ]
    }
   ],
   "source": [
    "lam = model.lam().detach().numpy()\n",
    "print(lam)"
   ]
  },
  {
   "cell_type": "code",
   "execution_count": 254,
   "metadata": {},
   "outputs": [
    {
     "data": {
      "image/png": "[encoded data removed]",
      "text/plain": [
       "<Figure size 432x288 with 1 Axes>"
      ]
     },
     "metadata": {
      "needs_background": "light"
     },
     "output_type": "display_data"
    }
   ],
   "source": [
    "plot_loss(loss_curve)"
   ]
  },
  {
   "cell_type": "code",
   "execution_count": 255,
   "metadata": {},
   "outputs": [
    {
     "data": {
      "text/plain": [
       "[<matplotlib.lines.Line2D at 0x11fc65590>]"
      ]
     },
     "execution_count": 255,
     "metadata": {},
     "output_type": "execute_result"
    },
    {
     "data": {
      "image/png": "[encoded data removed]",
      "text/plain": [
       "<Figure size 432x288 with 1 Axes>"
      ]
     },
     "metadata": {
      "needs_background": "light"
     },
     "output_type": "display_data"
    }
   ],
   "source": [
    "histogram = plt.hist(dataset.numpy(), bins=int(np.max(dataset.numpy())))\n",
    "arr = []\n",
    "for i in range(41):\n",
    "    prob = (lam ** i) * np.exp(-lam)\n",
    "    prob = prob / np.math.factorial(i)\n",
    "    arr.append(prob * len(dataset))\n",
    "plt.plot(list(range(41)), arr)"
   ]
  },
  {
   "cell_type": "code",
   "execution_count": null,
   "metadata": {},
   "outputs": [],
   "source": []
  }
 ],
 "metadata": {
  "kernelspec": {
   "display_name": "Python 3",
   "language": "python",
   "name": "python3"
  },
  "language_info": {
   "codemirror_mode": {
    "name": "ipython",
    "version": 3
   },
   "file_extension": ".py",
   "mimetype": "text/x-python",
   "name": "python",
   "nbconvert_exporter": "python",
   "pygments_lexer": "ipython3",
   "version": "3.7.4"
  }
 },
 "nbformat": 4,
 "nbformat_minor": 4
}
