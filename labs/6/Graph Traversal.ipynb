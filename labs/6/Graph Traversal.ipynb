{
 "cells": [
  {
   "cell_type": "code",
   "execution_count": 39,
   "metadata": {},
   "outputs": [
    {
     "name": "stdout",
     "output_type": "stream",
     "text": [
      "Populating the interactive namespace from numpy and matplotlib\n",
      "The autoreload extension is already loaded. To reload it, use:\n",
      "  %reload_ext autoreload\n"
     ]
    }
   ],
   "source": [
    "%pylab inline\n",
    "%load_ext autoreload\n",
    "%autoreload 2"
   ]
  },
  {
   "cell_type": "code",
   "execution_count": 143,
   "metadata": {},
   "outputs": [],
   "source": [
    "import copy\n",
    "from DS import Queue, PriorityQueue, Stack"
   ]
  },
  {
   "cell_type": "markdown",
   "metadata": {},
   "source": [
    "### Problem\n",
    "\n",
    "In the 8-puzzle, you are given a $3 \\times 3$ board where each number 1 through 8 occupies a $1 \\times 1$ square. Not that there are 9 possible $1 \\times 1$ squares on the $3 \\times 3$ board; consequently, there is always one space that is free. Any of the squares adjacent to the free square can \"slide\" into the free square. Sliding a square into the free space is considered an action. Given the board in a particular state, we want to take a series of actions that would get us the board in its solved state (shown below).\n",
    "\n",
    "![text](solved.png)\n",
    "\n",
    "This problem can be solved using graph-traversal algorithms. The state would encode the locations of numbers on the board, and the edges constitute actions (i.e. moves)"
   ]
  },
  {
   "cell_type": "markdown",
   "metadata": {},
   "source": [
    "First, let us create a class that would help us encapsulate the state of the board in a way that makes a graph traversal easier"
   ]
  },
  {
   "cell_type": "code",
   "execution_count": 144,
   "metadata": {},
   "outputs": [],
   "source": [
    "def manhattan_distance(p1, p2):\n",
    "    return abs(p1[0] - p2[0]) + abs(p1[1] - p2[1])\n",
    "\n",
    "class State(object):\n",
    "    def __init__(self, board):\n",
    "        self.positions = {}\n",
    "        self.board = board\n",
    "        self.free = None\n",
    "        for i in range(len(board)):\n",
    "            for j in range(len(board)):\n",
    "                if board[i][j] == None:\n",
    "                    self.free = (i, j)\n",
    "                else:\n",
    "                    self.positions[board[i][j]] = (i, j)\n",
    "        self.f = 0 # approx cost from start to goal through this state\n",
    "        self.g = 0 # actual cost from start\n",
    "        self.h = 0 # approx cost from goal\n",
    "    \n",
    "    # used to test when we reach the goal state, amongst other things\n",
    "    def distance_from(self, other):\n",
    "        total = 0\n",
    "        for elem, p1 in self.positions.items():\n",
    "            p2 = other.positions[elem]\n",
    "            total += manhattan_distance(p1, p2)\n",
    "        return total\n",
    "    \n",
    "    # give string representation for easier display\n",
    "    def __str__(self):\n",
    "        content = ''\n",
    "        for i in range(3):\n",
    "            for j in range(3):\n",
    "                elem = str(self.board[i][j]) if self.board[i][j] is not None else '*'\n",
    "                content +=  elem + ' '\n",
    "            content += '\\n'\n",
    "        return content\n",
    "    \n",
    "    # used to provide hashcode for hashing-based data structures like dictionaries and sets\n",
    "    def __hash__(self):\n",
    "        temp = [tuple(x) for x in self.board]\n",
    "        temp = tuple(temp)\n",
    "        return hash(temp)\n",
    "    \n",
    "    # need to give dummy implementation for priority queue based algorithms\n",
    "    def __lt__(self, other):\n",
    "        return 0"
   ]
  },
  {
   "cell_type": "code",
   "execution_count": 145,
   "metadata": {},
   "outputs": [],
   "source": [
    "\n",
    "# helper function to compute new board from old board\n",
    "def swap_on_board(board, pos1, pos2):\n",
    "    ans = copy.deepcopy(board)\n",
    "    x_len = len(ans)\n",
    "    y_len = len(ans)\n",
    "    temp = ans[pos1[0]][pos1[1]]\n",
    "    ans[pos1[0]][pos1[1]] = ans[pos2[0]][pos2[1]]\n",
    "    ans[pos2[0]][pos2[1]] = temp\n",
    "    return ans\n",
    "        \n",
    "\n",
    "\n",
    "class Graph(object):\n",
    "    def __init__(self):\n",
    "        self.solution_state = State(\n",
    "            [[1, 2, 3],\n",
    "            [4, 5, 6],\n",
    "            [7, 8, None]]\n",
    "        )\n",
    "        \n",
    "    # admissable heuristic on states\n",
    "    def h(self, state):\n",
    "        return state.distance_from(self.solution_state)\n",
    "    \n",
    "    # generate states that can be reached from another state \n",
    "    def get_edges(self, state):\n",
    "        x, y = state.free \n",
    "        movements = [(-1, 0), (0, 1), (0, -1), (1, 0)] # can swap left, up, down, or right\n",
    "        for x_diff, y_diff in movements:\n",
    "            x_prime = x_diff + x # compute swap positions\n",
    "            y_prime = y_diff + y\n",
    "            if x_prime > -1 and x_prime < 3 and y_prime > -1 and y_prime < 3: # if swap position is in the board's boundaries\n",
    "                pos1 = (x_prime, y_prime)\n",
    "                pos2 = state.free\n",
    "                adj_state = State(swap_on_board(state.board, pos1, pos2)) # create new state for neighbour\n",
    "                yield adj_state, 1 # yield both adjacent state and cost from current state to adjacent state\n",
    "                        \n",
    "                "
   ]
  },
  {
   "cell_type": "code",
   "execution_count": 146,
   "metadata": {},
   "outputs": [],
   "source": [
    "graph = Graph()"
   ]
  },
  {
   "cell_type": "code",
   "execution_count": 147,
   "metadata": {},
   "outputs": [
    {
     "name": "stdout",
     "output_type": "stream",
     "text": [
      "1 2 3 \n",
      "4 5 6 \n",
      "7 8 * \n",
      "\n",
      "1 2 3 \n",
      "4 5 * \n",
      "7 8 6 \n",
      "\n",
      "1 2 3 \n",
      "4 5 6 \n",
      "7 * 8 \n",
      "\n"
     ]
    }
   ],
   "source": [
    "print(graph.solution_state)\n",
    "for s, i in graph.get_edges(graph.solution_state):\n",
    "    print(s)"
   ]
  },
  {
   "cell_type": "code",
   "execution_count": 159,
   "metadata": {},
   "outputs": [],
   "source": [
    "def print_solution(parents, goal):\n",
    "    curr = goal\n",
    "    stack = Stack()\n",
    "    stack.push(curr)\n",
    "    while parents[curr]:\n",
    "        curr = parents[curr]\n",
    "        stack.push(curr)\n",
    "    while stack:\n",
    "        print(stack.pop())\n",
    "        \n",
    "def bfs(start, goal_test, graph):\n",
    "    fronteir = Queue()\n",
    "    fronteir.enqueue(start)\n",
    "    explored = set()\n",
    "    parents = {start: None}\n",
    "    while fronteir:\n",
    "        current = fronteir.dequeue()\n",
    "        explored.add(current)\n",
    "        if goal_test(current):\n",
    "            print_solution(parents, current)\n",
    "            return True\n",
    "        for adj_state, cost in graph.get_edges(current):\n",
    "            if adj_state not in fronteir and adj_state not in explored:\n",
    "                fronteir.enqueue(adj_state)\n",
    "                parents[adj_state] = current\n",
    "    print('No Solution found')\n",
    "    return False\n",
    "        \n",
    "    \n",
    "\n",
    "def a_star(start, goal_test, graph):\n",
    "    pqueue = PriorityQueue()\n",
    "    pqueue.push(0, start)\n",
    "    parents = {start: None}\n",
    "    explored = set()\n",
    "    while pqueue:\n",
    "        i, current = pqueue.pop()\n",
    "        explored.add(current)\n",
    "        if goal_test(current):\n",
    "            print_solution(parents, current)\n",
    "            return True\n",
    "        for adj_state, cost in graph.get_edges(current):\n",
    "            g = current.g + cost\n",
    "            h = graph.h(adj_state)\n",
    "            f = g + h\n",
    "            if (adj_state in pqueue and pqueue[adj_state] > f) or adj_state not in pqueue:\n",
    "                adj_state.f = f\n",
    "                adj_state.g = g\n",
    "                adj_state.h = h\n",
    "                pqueue[adj_state] = f\n",
    "                parents[adj_state] = current\n",
    "    print('No Solution found')\n",
    "    return False\n",
    "            \n",
    "            \n",
    "        "
   ]
  },
  {
   "cell_type": "code",
   "execution_count": 160,
   "metadata": {},
   "outputs": [],
   "source": [
    "def goal_test(state):\n",
    "    solution_state = State(\n",
    "            [[1, 2, 3],\n",
    "            [4, 5, 6],\n",
    "            [7, 8, None]]\n",
    "        )\n",
    "    return solution_state.distance_from(state) == 0\n",
    "\n",
    "start_state = State(\n",
    "    [\n",
    "        [1, 2, 3],\n",
    "        [None, 4, 6],\n",
    "        [7, 5, 8]\n",
    "    ]\n",
    ")"
   ]
  },
  {
   "cell_type": "code",
   "execution_count": 161,
   "metadata": {},
   "outputs": [
    {
     "name": "stdout",
     "output_type": "stream",
     "text": [
      "1 2 3 \n",
      "* 4 6 \n",
      "7 5 8 \n",
      "\n",
      "1 2 3 \n",
      "4 * 6 \n",
      "7 5 8 \n",
      "\n",
      "1 2 3 \n",
      "4 5 6 \n",
      "7 * 8 \n",
      "\n",
      "1 2 3 \n",
      "4 5 6 \n",
      "7 8 * \n",
      "\n"
     ]
    },
    {
     "data": {
      "text/plain": [
       "True"
      ]
     },
     "execution_count": 161,
     "metadata": {},
     "output_type": "execute_result"
    }
   ],
   "source": [
    "bfs(start_state, goal_test, graph)"
   ]
  }
 ],
 "metadata": {
  "kernelspec": {
   "display_name": "Python 3",
   "language": "python",
   "name": "python3"
  },
  "language_info": {
   "codemirror_mode": {
    "name": "ipython",
    "version": 3
   },
   "file_extension": ".py",
   "mimetype": "text/x-python",
   "name": "python",
   "nbconvert_exporter": "python",
   "pygments_lexer": "ipython3",
   "version": "3.7.4"
  }
 },
 "nbformat": 4,
 "nbformat_minor": 4
}
