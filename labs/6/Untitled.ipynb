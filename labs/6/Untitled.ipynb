{
 "cells": [
  {
   "cell_type": "code",
   "execution_count": null,
   "metadata": {},
   "outputs": [],
   "source": [
    "class PriorityQueue(object):\n",
    "    def __init__(self, ordering='min'):\n",
    "        self.arr = []\n",
    "        self.table = {}\n",
    "        self.mult = 1 if ordering == 'min' else -1\n",
    "        \n",
    "    def __len__(self):\n",
    "        return len(self.arr)\n",
    "    \n",
    "    def __bool__(self):\n",
    "        return bool(self.arr)\n",
    "    \n",
    "    def push(self, score, value):\n",
    "        score *= self.mult\n",
    "        self.arr.append((score, value))\n",
    "        self.table[value] = len(self.arr)\n",
    "    \n",
    "    def pop(self):\n",
    "        _, item = self.arr.\n",
    "    \n",
    "    "
   ]
  }
 ],
 "metadata": {
  "kernelspec": {
   "display_name": "Python 3",
   "language": "python",
   "name": "python3"
  },
  "language_info": {
   "codemirror_mode": {
    "name": "ipython",
    "version": 3
   },
   "file_extension": ".py",
   "mimetype": "text/x-python",
   "name": "python",
   "nbconvert_exporter": "python",
   "pygments_lexer": "ipython3",
   "version": "3.7.4"
  }
 },
 "nbformat": 4,
 "nbformat_minor": 4
}
