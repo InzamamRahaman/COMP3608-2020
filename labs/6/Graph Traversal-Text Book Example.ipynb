{
 "cells": [
  {
   "cell_type": "code",
   "execution_count": 39,
   "metadata": {},
   "outputs": [
    {
     "name": "stdout",
     "output_type": "stream",
     "text": [
      "Populating the interactive namespace from numpy and matplotlib\n",
      "The autoreload extension is already loaded. To reload it, use:\n",
      "  %reload_ext autoreload\n"
     ]
    }
   ],
   "source": [
    "%pylab inline\n",
    "%load_ext autoreload\n",
    "%autoreload 2"
   ]
  },
  {
   "cell_type": "code",
   "execution_count": 3,
   "metadata": {},
   "outputs": [],
   "source": [
    "import copy\n",
    "from DS import Queue, PriorityQueue, Stack\n",
    "import numpy as np"
   ]
  },
  {
   "cell_type": "markdown",
   "metadata": {},
   "source": [
    "First, let us read in the data from the files romania_map.csv and romania_loc.csv"
   ]
  },
  {
   "cell_type": "code",
   "execution_count": 34,
   "metadata": {},
   "outputs": [],
   "source": [
    "import networkx as nx # for graph manipulations\n",
    "\n",
    "\n",
    "# read in the graph of cities and their traversal costs\n",
    "map_graph = nx.Graph()\n",
    "with open('romania_map.csv', 'r') as fp:\n",
    "    lines = list(fp)\n",
    "    lines = lines[1:] # throw away header line\n",
    "    lines = map(lambda x: x.strip().split(','), lines) # split each line by commas\n",
    "    for frm, to, cost in lines:\n",
    "        map_graph.add_edge(u_of_edge=frm, v_of_edge=to, cost=float(cost))\n",
    "        \n"
   ]
  },
  {
   "cell_type": "code",
   "execution_count": 35,
   "metadata": {},
   "outputs": [
    {
     "data": {
      "text/plain": [
       "NodeView(('Arad', 'Zerind', 'Sibiu', 'Timisoara', 'Bucharest', 'Urziceni', 'Pitesti', 'Giurgiu', 'Fagaras', 'Craiova', 'Drobeta', 'Rimnicu', 'Mehadia', 'Eforie', 'Hirsova', 'Iasi', 'Vaslui', 'Neamt', 'Lugoj', 'Oradea'))"
      ]
     },
     "execution_count": 35,
     "metadata": {},
     "output_type": "execute_result"
    }
   ],
   "source": [
    "map_graph.nodes()"
   ]
  },
  {
   "cell_type": "code",
   "execution_count": 36,
   "metadata": {},
   "outputs": [
    {
     "data": {
      "text/plain": [
       "EdgeDataView([('Arad', 'Zerind', 75.0), ('Arad', 'Sibiu', 140.0), ('Arad', 'Timisoara', 118.0)])"
      ]
     },
     "execution_count": 36,
     "metadata": {},
     "output_type": "execute_result"
    }
   ],
   "source": [
    "map_graph.edges(nbunch='Arad', data='cost')"
   ]
  },
  {
   "cell_type": "markdown",
   "metadata": {},
   "source": [
    "Read in coordinate information for heuristics"
   ]
  },
  {
   "cell_type": "code",
   "execution_count": 37,
   "metadata": {},
   "outputs": [],
   "source": [
    "coords = {}\n",
    "\n",
    "with open('romania_loc.csv', 'r') as fp:\n",
    "    lines = list(fp)\n",
    "    lines = lines[1:]\n",
    "    lines = map(lambda x: x.strip().split(','), lines) # split each line by commas\n",
    "    for loc, x, y in lines:\n",
    "        coords[loc] = (float(x), float(y))\n",
    "        \n",
    "def distance_between(city1, city2):\n",
    "    x1, y1 = coords[city1]\n",
    "    x2, y2 = coords[city2]\n",
    "    return np.sqrt((x1 - x2) ** 2 + (y1 - y2) ** 2)\n",
    "    \n",
    "    "
   ]
  },
  {
   "cell_type": "code",
   "execution_count": 38,
   "metadata": {},
   "outputs": [],
   "source": [
    "class State(object):\n",
    "    def __init__(self, city):\n",
    "        self.city = city\n",
    "        self.f = 0 # approx cost from start to goal through this state\n",
    "        self.g = 0 # actual cost from start\n",
    "        self.h = 0 # approx cost from goal\n",
    "    \n",
    "    \n",
    "    # give string representation for easier display\n",
    "    def __str__(self):\n",
    "        return self.city\n",
    "    \n",
    "    # used to provide hashcode for hashing-based data structures like dictionaries and sets\n",
    "    def __hash__(self):\n",
    "        return hash(self.city)\n",
    "    \n",
    "    # need to give dummy implementation for priority queue based algorithms\n",
    "    def __lt__(self, other):\n",
    "        return 0"
   ]
  },
  {
   "cell_type": "code",
   "execution_count": 46,
   "metadata": {},
   "outputs": [],
   "source": [
    "class Graph(object):\n",
    "    def __init__(self, solution_state):\n",
    "        self.solution_state = State(solution_state)\n",
    "        \n",
    "    # admissable heuristic on states\n",
    "    def h(self, state):\n",
    "        return distance_between(state.city, self.solution_state.city)\n",
    "    \n",
    "    # generate states that can be reached from another state \n",
    "    def get_edges(self, state):\n",
    "        for _, adj_city, cost in map_graph.edges(nbunch=state.city, data='cost'):\n",
    "            adj_state = State(adj_city)\n",
    "            yield adj_state, cost"
   ]
  },
  {
   "cell_type": "code",
   "execution_count": 47,
   "metadata": {},
   "outputs": [],
   "source": [
    "graph = Graph('Bucharest')"
   ]
  },
  {
   "cell_type": "code",
   "execution_count": 48,
   "metadata": {},
   "outputs": [
    {
     "name": "stdout",
     "output_type": "stream",
     "text": [
      "Bucharest\n",
      "Urziceni   85.0\n",
      "Pitesti   101.0\n",
      "Giurgiu   90.0\n",
      "Fagaras   211.0\n"
     ]
    }
   ],
   "source": [
    "print(graph.solution_state)\n",
    "for s, i in graph.get_edges(graph.solution_state):\n",
    "    print(s, ' ', i)"
   ]
  },
  {
   "cell_type": "code",
   "execution_count": 49,
   "metadata": {},
   "outputs": [],
   "source": [
    "def print_solution(parents, goal):\n",
    "    curr = goal\n",
    "    stack = Stack()\n",
    "    stack.push(curr)\n",
    "    while parents[curr]:\n",
    "        curr = parents[curr]\n",
    "        stack.push(curr)\n",
    "    while stack:\n",
    "        print(stack.pop())\n",
    "        \n",
    "def bfs(start, goal_test, graph):\n",
    "    fronteir = Queue()\n",
    "    fronteir.enqueue(start)\n",
    "    explored = set()\n",
    "    parents = {start: None}\n",
    "    while fronteir:\n",
    "        current = fronteir.dequeue()\n",
    "        explored.add(current)\n",
    "        if goal_test(current):\n",
    "            print_solution(parents, current)\n",
    "            return True\n",
    "        for adj_state, cost in graph.get_edges(current):\n",
    "            if adj_state not in fronteir and adj_state not in explored:\n",
    "                fronteir.enqueue(adj_state)\n",
    "                parents[adj_state] = current\n",
    "    print('No Solution found')\n",
    "    return False\n",
    "        \n",
    "    \n",
    "\n",
    "def a_star(start, goal_test, graph):\n",
    "    pqueue = PriorityQueue()\n",
    "    pqueue.push(0, start)\n",
    "    parents = {start: None}\n",
    "    explored = set()\n",
    "    while pqueue:\n",
    "        i, current = pqueue.pop()\n",
    "        explored.add(current)\n",
    "        if goal_test(current):\n",
    "            print_solution(parents, current)\n",
    "            return True\n",
    "        for adj_state, cost in graph.get_edges(current):\n",
    "            g = current.g + cost\n",
    "            h = graph.h(adj_state)\n",
    "            f = g + h\n",
    "            if (adj_state in pqueue and pqueue[adj_state] > f) or adj_state not in pqueue:\n",
    "                adj_state.f = f\n",
    "                adj_state.g = g\n",
    "                adj_state.h = h\n",
    "                pqueue[adj_state] = f\n",
    "                parents[adj_state] = current\n",
    "    print('No Solution found')\n",
    "    return False\n",
    "            \n",
    "            \n",
    "        "
   ]
  },
  {
   "cell_type": "code",
   "execution_count": 50,
   "metadata": {},
   "outputs": [],
   "source": [
    "def goal_test(state):\n",
    "    return state.city == 'Bucharest'\n",
    "\n",
    "start_state = State('Arad')"
   ]
  },
  {
   "cell_type": "code",
   "execution_count": 51,
   "metadata": {},
   "outputs": [
    {
     "name": "stdout",
     "output_type": "stream",
     "text": [
      "Arad\n",
      "Sibiu\n",
      "Fagaras\n",
      "Bucharest\n"
     ]
    },
    {
     "data": {
      "text/plain": [
       "True"
      ]
     },
     "execution_count": 51,
     "metadata": {},
     "output_type": "execute_result"
    }
   ],
   "source": [
    "bfs(start_state, goal_test, graph)"
   ]
  },
  {
   "cell_type": "code",
   "execution_count": 52,
   "metadata": {},
   "outputs": [
    {
     "ename": "TypeError",
     "evalue": "unsupported operand type(s) for -: 'str' and 'str'",
     "output_type": "error",
     "traceback": [
      "\u001b[0;31m---------------------------------------------------------------------------\u001b[0m",
      "\u001b[0;31mTypeError\u001b[0m                                 Traceback (most recent call last)",
      "\u001b[0;32m<ipython-input-52-8b0e51021508>\u001b[0m in \u001b[0;36m<module>\u001b[0;34m\u001b[0m\n\u001b[0;32m----> 1\u001b[0;31m \u001b[0ma_star\u001b[0m\u001b[0;34m(\u001b[0m\u001b[0mstart_state\u001b[0m\u001b[0;34m,\u001b[0m \u001b[0mgoal_test\u001b[0m\u001b[0;34m,\u001b[0m \u001b[0mgraph\u001b[0m\u001b[0;34m)\u001b[0m\u001b[0;34m\u001b[0m\u001b[0;34m\u001b[0m\u001b[0m\n\u001b[0m",
      "\u001b[0;32m<ipython-input-49-6aefd7932a18>\u001b[0m in \u001b[0;36ma_star\u001b[0;34m(start, goal_test, graph)\u001b[0m\n\u001b[1;32m     42\u001b[0m         \u001b[0;32mfor\u001b[0m \u001b[0madj_state\u001b[0m\u001b[0;34m,\u001b[0m \u001b[0mcost\u001b[0m \u001b[0;32min\u001b[0m \u001b[0mgraph\u001b[0m\u001b[0;34m.\u001b[0m\u001b[0mget_edges\u001b[0m\u001b[0;34m(\u001b[0m\u001b[0mcurrent\u001b[0m\u001b[0;34m)\u001b[0m\u001b[0;34m:\u001b[0m\u001b[0;34m\u001b[0m\u001b[0;34m\u001b[0m\u001b[0m\n\u001b[1;32m     43\u001b[0m             \u001b[0mg\u001b[0m \u001b[0;34m=\u001b[0m \u001b[0mcurrent\u001b[0m\u001b[0;34m.\u001b[0m\u001b[0mg\u001b[0m \u001b[0;34m+\u001b[0m \u001b[0mcost\u001b[0m\u001b[0;34m\u001b[0m\u001b[0;34m\u001b[0m\u001b[0m\n\u001b[0;32m---> 44\u001b[0;31m             \u001b[0mh\u001b[0m \u001b[0;34m=\u001b[0m \u001b[0mgraph\u001b[0m\u001b[0;34m.\u001b[0m\u001b[0mh\u001b[0m\u001b[0;34m(\u001b[0m\u001b[0madj_state\u001b[0m\u001b[0;34m)\u001b[0m\u001b[0;34m\u001b[0m\u001b[0;34m\u001b[0m\u001b[0m\n\u001b[0m\u001b[1;32m     45\u001b[0m             \u001b[0mf\u001b[0m \u001b[0;34m=\u001b[0m \u001b[0mg\u001b[0m \u001b[0;34m+\u001b[0m \u001b[0mh\u001b[0m\u001b[0;34m\u001b[0m\u001b[0;34m\u001b[0m\u001b[0m\n\u001b[1;32m     46\u001b[0m             \u001b[0;32mif\u001b[0m \u001b[0;34m(\u001b[0m\u001b[0madj_state\u001b[0m \u001b[0;32min\u001b[0m \u001b[0mpqueue\u001b[0m \u001b[0;32mand\u001b[0m \u001b[0mpqueue\u001b[0m\u001b[0;34m[\u001b[0m\u001b[0madj_state\u001b[0m\u001b[0;34m]\u001b[0m \u001b[0;34m>\u001b[0m \u001b[0mf\u001b[0m\u001b[0;34m)\u001b[0m \u001b[0;32mor\u001b[0m \u001b[0madj_state\u001b[0m \u001b[0;32mnot\u001b[0m \u001b[0;32min\u001b[0m \u001b[0mpqueue\u001b[0m\u001b[0;34m:\u001b[0m\u001b[0;34m\u001b[0m\u001b[0;34m\u001b[0m\u001b[0m\n",
      "\u001b[0;32m<ipython-input-46-5445b6ad6236>\u001b[0m in \u001b[0;36mh\u001b[0;34m(self, state)\u001b[0m\n\u001b[1;32m      5\u001b[0m     \u001b[0;31m# admissable heuristic on states\u001b[0m\u001b[0;34m\u001b[0m\u001b[0;34m\u001b[0m\u001b[0;34m\u001b[0m\u001b[0m\n\u001b[1;32m      6\u001b[0m     \u001b[0;32mdef\u001b[0m \u001b[0mh\u001b[0m\u001b[0;34m(\u001b[0m\u001b[0mself\u001b[0m\u001b[0;34m,\u001b[0m \u001b[0mstate\u001b[0m\u001b[0;34m)\u001b[0m\u001b[0;34m:\u001b[0m\u001b[0;34m\u001b[0m\u001b[0;34m\u001b[0m\u001b[0m\n\u001b[0;32m----> 7\u001b[0;31m         \u001b[0;32mreturn\u001b[0m \u001b[0mdistance_between\u001b[0m\u001b[0;34m(\u001b[0m\u001b[0mstate\u001b[0m\u001b[0;34m.\u001b[0m\u001b[0mcity\u001b[0m\u001b[0;34m,\u001b[0m \u001b[0mself\u001b[0m\u001b[0;34m.\u001b[0m\u001b[0msolution_state\u001b[0m\u001b[0;34m.\u001b[0m\u001b[0mcity\u001b[0m\u001b[0;34m)\u001b[0m\u001b[0;34m\u001b[0m\u001b[0;34m\u001b[0m\u001b[0m\n\u001b[0m\u001b[1;32m      8\u001b[0m \u001b[0;34m\u001b[0m\u001b[0m\n\u001b[1;32m      9\u001b[0m     \u001b[0;31m# generate states that can be reached from another state\u001b[0m\u001b[0;34m\u001b[0m\u001b[0;34m\u001b[0m\u001b[0;34m\u001b[0m\u001b[0m\n",
      "\u001b[0;32m<ipython-input-37-0aa692fb1c1a>\u001b[0m in \u001b[0;36mdistance_between\u001b[0;34m(city1, city2)\u001b[0m\n\u001b[1;32m     11\u001b[0m     \u001b[0mx1\u001b[0m\u001b[0;34m,\u001b[0m \u001b[0my1\u001b[0m \u001b[0;34m=\u001b[0m \u001b[0mcoords\u001b[0m\u001b[0;34m[\u001b[0m\u001b[0mcity1\u001b[0m\u001b[0;34m]\u001b[0m\u001b[0;34m\u001b[0m\u001b[0;34m\u001b[0m\u001b[0m\n\u001b[1;32m     12\u001b[0m     \u001b[0mx2\u001b[0m\u001b[0;34m,\u001b[0m \u001b[0my2\u001b[0m \u001b[0;34m=\u001b[0m \u001b[0mcoords\u001b[0m\u001b[0;34m[\u001b[0m\u001b[0mcity2\u001b[0m\u001b[0;34m]\u001b[0m\u001b[0;34m\u001b[0m\u001b[0;34m\u001b[0m\u001b[0m\n\u001b[0;32m---> 13\u001b[0;31m     \u001b[0;32mreturn\u001b[0m \u001b[0mnp\u001b[0m\u001b[0;34m.\u001b[0m\u001b[0msqrt\u001b[0m\u001b[0;34m(\u001b[0m\u001b[0;34m(\u001b[0m\u001b[0mx1\u001b[0m \u001b[0;34m-\u001b[0m \u001b[0mx2\u001b[0m\u001b[0;34m)\u001b[0m \u001b[0;34m**\u001b[0m \u001b[0;36m2\u001b[0m \u001b[0;34m+\u001b[0m \u001b[0;34m(\u001b[0m\u001b[0my1\u001b[0m \u001b[0;34m-\u001b[0m \u001b[0my2\u001b[0m\u001b[0;34m)\u001b[0m \u001b[0;34m**\u001b[0m \u001b[0;36m2\u001b[0m\u001b[0;34m)\u001b[0m\u001b[0;34m\u001b[0m\u001b[0;34m\u001b[0m\u001b[0m\n\u001b[0m\u001b[1;32m     14\u001b[0m \u001b[0;34m\u001b[0m\u001b[0m\n\u001b[1;32m     15\u001b[0m \u001b[0;34m\u001b[0m\u001b[0m\n",
      "\u001b[0;31mTypeError\u001b[0m: unsupported operand type(s) for -: 'str' and 'str'"
     ]
    }
   ],
   "source": [
    "a_star(start_state, goal_test, graph)"
   ]
  },
  {
   "cell_type": "code",
   "execution_count": null,
   "metadata": {},
   "outputs": [],
   "source": []
  }
 ],
 "metadata": {
  "kernelspec": {
   "display_name": "Python 3",
   "language": "python",
   "name": "python3"
  },
  "language_info": {
   "codemirror_mode": {
    "name": "ipython",
    "version": 3
   },
   "file_extension": ".py",
   "mimetype": "text/x-python",
   "name": "python",
   "nbconvert_exporter": "python",
   "pygments_lexer": "ipython3",
   "version": "3.7.4"
  }
 },
 "nbformat": 4,
 "nbformat_minor": 4
}
