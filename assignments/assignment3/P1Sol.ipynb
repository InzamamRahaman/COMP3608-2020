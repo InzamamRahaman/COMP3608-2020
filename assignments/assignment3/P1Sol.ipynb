{
 "cells": [
  {
   "cell_type": "code",
   "execution_count": 16,
   "metadata": {},
   "outputs": [
    {
     "name": "stdout",
     "output_type": "stream",
     "text": [
      "Populating the interactive namespace from numpy and matplotlib\n"
     ]
    }
   ],
   "source": [
    "%pylab inline\n",
    "import numpy as np\n",
    "import sklearn.linear_model as linear\n",
    "from sklearn.model_selection import KFold\n",
    "from scipy.stats import ttest_rel"
   ]
  },
  {
   "cell_type": "code",
   "execution_count": 5,
   "metadata": {},
   "outputs": [],
   "source": [
    "def mape(actual, pred, eps=0.00001):\n",
    "    components = np.abs(actual - pred)\n",
    "    components = (components / (actual + eps)) * 100\n",
    "    return np.mean(components)\n",
    "    "
   ]
  },
  {
   "cell_type": "code",
   "execution_count": 10,
   "metadata": {},
   "outputs": [],
   "source": [
    "with open('X.npy', 'rb') as fp:\n",
    "    X = np.load(fp)\n",
    "with open('y.npy', 'rb') as fp:\n",
    "    y = np.load(fp)"
   ]
  },
  {
   "cell_type": "code",
   "execution_count": 14,
   "metadata": {},
   "outputs": [
    {
     "data": {
      "text/plain": [
       "5"
      ]
     },
     "execution_count": 14,
     "metadata": {},
     "output_type": "execute_result"
    }
   ],
   "source": [
    "kf = KFold(n_splits=5)\n",
    "kf.get_n_splits(X)"
   ]
  },
  {
   "cell_type": "code",
   "execution_count": 17,
   "metadata": {},
   "outputs": [],
   "source": [
    "lr1_res = []\n",
    "lr2_res = []\n",
    "lr3_res = []\n",
    "\n",
    "for train_index, test_index in kf.split(X):\n",
    "    X_train, X_test = X[train_index], X[test_index]\n",
    "    y_train, y_test = y[train_index], y[test_index]\n",
    "    \n",
    "    lr1 = linear.LinearRegression()\n",
    "    lr2 = linear.Ridge()\n",
    "    lr3 = linear.Lasso()\n",
    "    \n",
    "    lr1.fit(X_train, y_train)\n",
    "    lr2.fit(X_train, y_train)\n",
    "    lr3.fit(X_train, y_train)\n",
    "    \n",
    "    lr1_res.append(mape(y_test, lr1.predict(X_test)))\n",
    "    lr2_res.append(mape(y_test, lr2.predict(X_test)))\n",
    "    lr3_res.append(mape(y_test, lr3.predict(X_test)))"
   ]
  },
  {
   "cell_type": "code",
   "execution_count": 18,
   "metadata": {},
   "outputs": [],
   "source": [
    "lr1_res = np.array(lr1_res)\n",
    "lr2_res = np.array(lr2_res)\n",
    "lr3_res = np.array(lr3_res)"
   ]
  },
  {
   "cell_type": "code",
   "execution_count": 22,
   "metadata": {},
   "outputs": [
    {
     "name": "stdout",
     "output_type": "stream",
     "text": [
      "Mean for Linear Regression  37.044292502576255  Std for Linear Regression  9.050565869904354\n",
      "Mean for Ridege Regression  37.09350033190795  Std for Ridge Regression  9.067611505669358\n",
      "Mean for LASSO Regression  37.35624334279797  Std for LASSO Regression  9.136222831898865\n"
     ]
    }
   ],
   "source": [
    "print('Mean for Linear Regression ', np.mean(lr1_res), ' Std for Linear Regression ', np.std(lr1_res))\n",
    "print('Mean for Ridge Regression ', np.mean(lr2_res), ' Std for Ridge Regression ', np.std(lr2_res))\n",
    "print('Mean for LASSO Regression ', np.mean(lr3_res), ' Std for LASSO Regression ', np.std(lr3_res))"
   ]
  },
  {
   "cell_type": "markdown",
   "metadata": {},
   "source": [
    "More statistically robust to check using Student-t test in addition to above"
   ]
  },
  {
   "cell_type": "code",
   "execution_count": 23,
   "metadata": {},
   "outputs": [
    {
     "name": "stdout",
     "output_type": "stream",
     "text": [
      "Ttest_relResult(statistic=-4.159691947089001, pvalue=0.01414870668655993)\n",
      "Ttest_relResult(statistic=-2.9674534363061396, pvalue=0.04124828824419589)\n",
      "Ttest_relResult(statistic=-3.1435782149384717, pvalue=0.034727891890525206)\n"
     ]
    }
   ],
   "source": [
    "print(ttest_rel(lr1_res, lr2_res))\n",
    "print(ttest_rel(lr2_res, lr3_res))\n",
    "print(ttest_rel(lr1_res, lr3_res))"
   ]
  },
  {
   "cell_type": "markdown",
   "metadata": {},
   "source": [
    "Differences between Ridge and LASSO are statistically significiant, and between Linear and LASSO are statistically significant. However, between Linear and Ridge are not statistically different.  (Use p_value < 0.05 as indiciation of significance)\n",
    "\n",
    "Based on the mean tests from above, the order of performance is lossely Linear > Ridge > LASSO. Considering the significance tests, the differences between Linear and Ridge are not significantly different; hence either Linear or Ridge should be used"
   ]
  },
  {
   "cell_type": "code",
   "execution_count": null,
   "metadata": {},
   "outputs": [],
   "source": []
  }
 ],
 "metadata": {
  "kernelspec": {
   "display_name": "Python 3",
   "language": "python",
   "name": "python3"
  },
  "language_info": {
   "codemirror_mode": {
    "name": "ipython",
    "version": 3
   },
   "file_extension": ".py",
   "mimetype": "text/x-python",
   "name": "python",
   "nbconvert_exporter": "python",
   "pygments_lexer": "ipython3",
   "version": "3.7.4"
  }
 },
 "nbformat": 4,
 "nbformat_minor": 2
}
